{
 "cells": [
  {
   "cell_type": "markdown",
   "metadata": {},
   "source": [
    "# Colorization\n",
    "Class project - CS231N - Stanford University\n",
    "\n",
    "Vincent Billaut  \n",
    "Matthieu de Rochemonteix  \n",
    "Marc Thibault  \n",
    "\n",
    "See our GitHub [repo](https://github.com/vincentbillaut/all-colors-matter) for more details on the implementation."
   ]
  },
  {
   "cell_type": "markdown",
   "metadata": {},
   "source": [
    "## Imports"
   ]
  },
  {
   "cell_type": "code",
   "execution_count": null,
   "metadata": {
    "scrolled": true
   },
   "outputs": [],
   "source": [
    "import tensorflow as tf\n",
    "import matplotlib.pyplot as plt\n",
    "import numpy as np\n",
    "\n",
    "%matplotlib inline\n",
    "\n",
    "from matplotlib.pyplot import imread\n",
    "\n",
    "####################################################\n",
    "# Setting working directory to enable relative paths\n",
    "import os\n",
    "os.chdir(\"../\")\n",
    "####################################################\n",
    "\n",
    "from models.coloringmodel import Config\n",
    "from models.naive_convnet import NaiveConvColoringModel\n",
    "from utils.dataset import Dataset\n",
    "from utils.color_utils import RGB_to_YUV, YUV_to_RGB\n",
    "from utils.data_utils import load_image_jpg_to_YUV\n",
    "from utils.color_discretizer import ColorDiscretizer\n",
    "from utils.data_augmentation import DataAugmenter"
   ]
  },
  {
   "cell_type": "markdown",
   "metadata": {},
   "source": [
    "## Load existing model and visualize outputs per temperature"
   ]
  },
  {
   "cell_type": "code",
   "execution_count": null,
   "metadata": {},
   "outputs": [],
   "source": [
    "# Enter output folder name\n",
    "output_folder = \"outputs/20180605_074014-ab2b/\""
   ]
  },
  {
   "cell_type": "code",
   "execution_count": null,
   "metadata": {},
   "outputs": [],
   "source": [
    "from models.unet import UNetColoringModel"
   ]
  },
  {
   "cell_type": "code",
   "execution_count": null,
   "metadata": {},
   "outputs": [],
   "source": [
    "config = Config(\"configs/config_unet_suncoast.json\")\n",
    "cd = ColorDiscretizer(max_categories=config.max_categories)\n",
    "cd.train(config.cd_train_path, 1000)\n",
    "da = DataAugmenter()\n",
    "dataset = Dataset(config.train_path, config.val_path, cd, da)\n",
    "model = UNetColoringModel(config, dataset)"
   ]
  },
  {
   "cell_type": "code",
   "execution_count": null,
   "metadata": {},
   "outputs": [],
   "source": [
    "model.load(output_folder)"
   ]
  },
  {
   "cell_type": "code",
   "execution_count": null,
   "metadata": {},
   "outputs": [],
   "source": [
    "image_paths = [os.path.join(config.val_path, impath) for impath in os.listdir(config.val_path)]\n",
    "image_paths_insample = [os.path.join(config.train_path, impath) for impath in os.listdir(config.train_path)]"
   ]
  },
  {
   "cell_type": "code",
   "execution_count": null,
   "metadata": {},
   "outputs": [],
   "source": [
    "%matplotlib inline"
   ]
  },
  {
   "cell_type": "code",
   "execution_count": null,
   "metadata": {},
   "outputs": [],
   "source": [
    "temperature =  1.\n",
    "\n",
    "def display_confidence(image_paths, cd):\n",
    "    n_images = len(image_paths)\n",
    "    n_methods = 4\n",
    "    plt.figure(figsize=(16, n_images * 6))\n",
    "    \n",
    "    for i, image_path in enumerate(image_paths):\n",
    "        loss, pred_image_categories, (im_yscale, im_uvscale, msk) = model.pred_color_one_image(image_path)\n",
    "        mask_shape = [0, 0]\n",
    "        if msk[:, 0].mean() == 1.:\n",
    "            mask_shape[0] = msk.shape[1]\n",
    "        else:\n",
    "            mask_shape[0] = np.argmin(msk[:, 0])\n",
    "        if msk[0, :].mean() == 1.:\n",
    "            mask_shape[1] = msk.shape[0]\n",
    "        else:\n",
    "            mask_shape[1] = np.argmin(msk[0, :])\n",
    "        \n",
    "        cropped_pred_image_categories = pred_image_categories[0, :mask_shape[0], :mask_shape[1], :]\n",
    "        cropped_im_yscale = im_yscale[:mask_shape[0], :mask_shape[1]]\n",
    "        cropped_im_uvscale = im_uvscale[:mask_shape[0], :mask_shape[1], :]\n",
    "\n",
    "        true_YUV_image = np.concatenate([cropped_im_yscale, cropped_im_uvscale], axis=2)\n",
    "        true_RGB_image = YUV_to_RGB(true_YUV_image).astype(\"uint8\")\n",
    "        ax = plt.subplot(n_images, n_methods + 1, 1 + i * (n_methods + 1))\n",
    "        plt.imshow(true_RGB_image)\n",
    "        plt.axis('off')\n",
    "        ax.set_title(\"ground truth\")\n",
    "\n",
    "        pred_UVimage = cd.UVpixels_from_distribution(cropped_pred_image_categories,\n",
    "                                                     temperature=temperature)\n",
    "        predicted_YUV_image = np.concatenate([cropped_im_yscale, pred_UVimage], axis=2)\n",
    "        predicted_RGB_image = YUV_to_RGB(predicted_YUV_image).astype(\"uint8\")\n",
    "\n",
    "        ax = plt.subplot(n_images, n_methods + 1, 1 + i * (n_methods + 1)  + 1)\n",
    "        plt.imshow(predicted_RGB_image)\n",
    "        plt.axis('off')\n",
    "        ax.set_title(\"prediction (temperature = {})\".format(temperature))\n",
    "        \n",
    "        ax = plt.subplot(n_images, n_methods + 1, 1 + i * (n_methods + 1) +1 + 1)\n",
    "        confidence = cropped_pred_image_categories.max(axis = 2)\n",
    "        plt.imshow(confidence, cmap=plt.cm.hot)\n",
    "        plt.axis('off')\n",
    "        ax.set_title(\"max score\")\n",
    "        plt.colorbar()\n",
    "        \n",
    "        ax = plt.subplot(n_images, n_methods + 1, 1 + i * (n_methods + 1) +2 + 1)\n",
    "        score_max = cropped_pred_image_categories-cropped_pred_image_categories.max(axis = 2,keepdims = True)\n",
    "        score_max[score_max>=0]=-10\n",
    "        score_max+=cropped_pred_image_categories.max(axis = 2,keepdims = True)\n",
    "        confidence = cropped_pred_image_categories.max(axis = 2)-score_max.max(axis = 2)\n",
    "        plt.imshow(confidence, cmap=plt.cm.hot)\n",
    "        plt.axis('off')\n",
    "        ax.set_title(\"max score - second\")\n",
    "        plt.colorbar()\n",
    "        \n",
    "        ax = plt.subplot(n_images, n_methods + 1, 1 + i * (n_methods + 1) +3 + 1)\n",
    "\n",
    "        confidence = cropped_pred_image_categories.max(axis = 2)/score_max.max(axis = 2)\n",
    "        plt.imshow(confidence, cmap=plt.cm.hot)\n",
    "        plt.axis('off')\n",
    "        ax.set_title(\"max score / second\")\n",
    "        plt.colorbar()\n",
    "    plt.show()\n",
    "    "
   ]
  },
  {
   "cell_type": "code",
   "execution_count": null,
   "metadata": {},
   "outputs": [],
   "source": []
  },
  {
   "cell_type": "code",
   "execution_count": null,
   "metadata": {
    "scrolled": false
   },
   "outputs": [],
   "source": [
    "display_confidence(image_paths[70:75], cd)"
   ]
  },
  {
   "cell_type": "code",
   "execution_count": null,
   "metadata": {},
   "outputs": [],
   "source": [
    "SAVE_PATH = \"chosen_outputs/\""
   ]
  },
  {
   "cell_type": "code",
   "execution_count": null,
   "metadata": {},
   "outputs": [],
   "source": [
    "from PIL import Image\n",
    "for imname in os.listdir(SAVE_PATH):\n",
    "    if imname.endswith(\"png\"):\n",
    "        imname_strip = imname.rstrip(\".png\")\n",
    "        im = Image.open(os.path.join(SAVE_PATH,imname))\n",
    "        rgb_im = im.convert('RGB')\n",
    "        rgb_im.save(os.path.join(SAVE_PATH,imname_strip+\".jpg\"))"
   ]
  },
  {
   "cell_type": "code",
   "execution_count": null,
   "metadata": {},
   "outputs": [],
   "source": [
    "\n",
    "def export_confidence(image_path, cd,save_path = SAVE_PATH):    \n",
    "    n_images = 1\n",
    "    n_methods = 3\n",
    "    imname = image_path.split(\"/\")[-1].split(\".\")[0]\n",
    "    print(\"saving {}\".format(imname))\n",
    "    \n",
    "    i = 0\n",
    "    fig = plt.figure(figsize=(20, 6))\n",
    "    loss, pred_image_categories, (im_yscale, im_uvscale, msk) = model.pred_color_one_image(image_path)\n",
    "    mask_shape = [0, 0]\n",
    "    if msk[:, 0].mean() == 1.:\n",
    "        mask_shape[0] = msk.shape[1]\n",
    "    else:\n",
    "        mask_shape[0] = np.argmin(msk[:, 0])\n",
    "    if msk[0, :].mean() == 1.:\n",
    "        mask_shape[1] = msk.shape[0]\n",
    "    else:\n",
    "        mask_shape[1] = np.argmin(msk[0, :])\n",
    "\n",
    "    cropped_pred_image_categories = pred_image_categories[0, :mask_shape[0], :mask_shape[1], :]\n",
    "    cropped_im_yscale = im_yscale[:mask_shape[0], :mask_shape[1]]\n",
    "    cropped_im_uvscale = im_uvscale[:mask_shape[0], :mask_shape[1], :]\n",
    "\n",
    "    true_YUV_image = np.concatenate([cropped_im_yscale, cropped_im_uvscale], axis=2)\n",
    "    true_RGB_image = YUV_to_RGB(true_YUV_image).astype(\"uint8\")\n",
    "\n",
    "    ax = fig.add_subplot(n_images, n_methods + 1, 1 + i * (n_methods + 1))\n",
    "    ax.imshow(true_RGB_image)\n",
    "    ax.axis('off')\n",
    "    ax.set_title(\"ground truth\")\n",
    "\n",
    "    pred_UVimage = cd.UVpixels_from_distribution(cropped_pred_image_categories,\n",
    "                                                 temperature=temperature)\n",
    "    predicted_YUV_image = np.concatenate([cropped_im_yscale, pred_UVimage], axis=2)\n",
    "    predicted_RGB_image = YUV_to_RGB(predicted_YUV_image).astype(\"uint8\")\n",
    "\n",
    "    ax = fig.add_subplot(n_images, n_methods + 1, 1 + i * (n_methods + 1)  + 1)\n",
    "    ax.imshow(predicted_RGB_image)\n",
    "    ax.axis('off')\n",
    "    ax.set_title(\"prediction (temperature = {})\".format(temperature))\n",
    "\n",
    "    ax = fig.add_subplot(n_images, n_methods + 1, 1 + i * (n_methods + 1) +1 + 1)\n",
    "    confidence = cropped_pred_image_categories.max(axis = 2)\n",
    "    z = ax.imshow(confidence, cmap=plt.cm.hot)\n",
    "    ax.axis('off')\n",
    "    ax.set_title(\"max score\")\n",
    "    \n",
    "    plt.colorbar(z,ax=ax,fraction=0.0330, pad=0.01)\n",
    "\n",
    "#     ax = fig.add_subplot(n_images, n_methods + 1, 1 + i * (n_methods + 1) +2 + 1)\n",
    "    score_max = cropped_pred_image_categories-cropped_pred_image_categories.max(axis = 2,keepdims = True)\n",
    "    score_max[score_max>=0]=-10\n",
    "    score_max+=cropped_pred_image_categories.max(axis = 2,keepdims = True)\n",
    "#     confidence = cropped_pred_image_categories.max(axis = 2)-score_max.max(axis = 2)\n",
    "#     z = ax.imshow(confidence, cmap=plt.cm.hot)\n",
    "#     ax.axis('off')\n",
    "#     ax.set_title(\"max score - second\")\n",
    "#     plt.colorbar(z,ax=ax,fraction=0.046, pad=0.04)\n",
    "\n",
    "    ax = plt.subplot(n_images, n_methods + 1, 1 + i * (n_methods + 1) +2 + 1)\n",
    "\n",
    "    confidence = cropped_pred_image_categories.max(axis = 2)/score_max.max(axis = 2)\n",
    "    z = ax.imshow(confidence, cmap=plt.cm.hot)\n",
    "    ax.axis('off')\n",
    "    ax.set_title(\"max score / second\")\n",
    "    plt.colorbar(z,ax=ax,fraction=0.0330, pad=0.01)\n",
    "    fig.savefig(fname =  os.path.join(save_path,imname+\"_maps.png\"), dpi = 600)\n"
   ]
  },
  {
   "cell_type": "code",
   "execution_count": null,
   "metadata": {},
   "outputs": [],
   "source": [
    "export_confidence(image_paths[1402],cd)"
   ]
  },
  {
   "cell_type": "code",
   "execution_count": null,
   "metadata": {},
   "outputs": [],
   "source": []
  }
 ],
 "metadata": {
  "kernelspec": {
   "display_name": "Python 3",
   "language": "python",
   "name": "python3"
  },
  "language_info": {
   "codemirror_mode": {
    "name": "ipython",
    "version": 3
   },
   "file_extension": ".py",
   "mimetype": "text/x-python",
   "name": "python",
   "nbconvert_exporter": "python",
   "pygments_lexer": "ipython3",
   "version": "3.6.4"
  }
 },
 "nbformat": 4,
 "nbformat_minor": 1
}
