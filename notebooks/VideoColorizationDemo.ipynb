{
 "cells": [
  {
   "cell_type": "markdown",
   "metadata": {},
   "source": [
    "# Colorization\n",
    "Class project - CS231N - Stanford University\n",
    "\n",
    "Vincent Billaut  \n",
    "Matthieu de Rochemonteix  \n",
    "Marc Thibault  \n",
    "\n",
    "See our GitHub [repo](https://github.com/vincentbillaut/all-colors-matter) for more details on the implementation."
   ]
  },
  {
   "cell_type": "markdown",
   "metadata": {},
   "source": [
    "## Imports"
   ]
  },
  {
   "cell_type": "code",
   "execution_count": null,
   "metadata": {
    "scrolled": true
   },
   "outputs": [],
   "source": [
    "import tensorflow as tf\n",
    "import matplotlib.pyplot as plt\n",
    "from matplotlib.pyplot import imread, imsave\n",
    "import numpy as np\n",
    "\n",
    "%matplotlib inline\n",
    "\n",
    "from matplotlib.pyplot import imread\n",
    "from matplotlib import animation\n",
    "from IPython.display import display, HTML\n",
    "from tqdm import tqdm_notebook\n",
    "\n",
    "####################################################\n",
    "# Setting working directory to enable relative paths\n",
    "import os\n",
    "os.chdir(\"../\")\n",
    "import pickle\n",
    "####################################################\n",
    "\n",
    "from models.coloringmodel import Config\n",
    "from models.naive_convnet import NaiveConvColoringModel\n",
    "from models.unet import UNetColoringModel\n",
    "from utils.dataset import Dataset\n",
    "from utils.color_utils import RGB_to_YUV, YUV_to_RGB\n",
    "from utils.data_utils import load_image_jpg_to_YUV, dump_YUV_image_to_jpg\n",
    "from utils.color_discretizer import ColorDiscretizer\n",
    "from utils.data_augmentation import DataAugmenter\n",
    "from utils.video_utils import smoothen_frame_list"
   ]
  },
  {
   "cell_type": "markdown",
   "metadata": {},
   "source": [
    "## Load existing model"
   ]
  },
  {
   "cell_type": "code",
   "execution_count": null,
   "metadata": {},
   "outputs": [],
   "source": [
    "# Enter output folder name\n",
    "output_folder = \"outputs/20180604_223338-2cd6/\""
   ]
  },
  {
   "cell_type": "code",
   "execution_count": null,
   "metadata": {},
   "outputs": [],
   "source": [
    "config = Config(\"configs/config_unet_suncoast2.json\")\n",
    "\n",
    "cd = ColorDiscretizer(max_categories=config.max_categories)\n",
    "cd_loaded = pickle.load(open(\"notebooks/cd.pkl\", \"rb\"))\n",
    "for k in cd_loaded.__dict__:\n",
    "    cd.__dict__[k] = cd_loaded.__dict__[k]"
   ]
  },
  {
   "cell_type": "code",
   "execution_count": null,
   "metadata": {},
   "outputs": [],
   "source": [
    "config.val_path = \"data/long_video_frames_/\""
   ]
  },
  {
   "cell_type": "code",
   "execution_count": null,
   "metadata": {},
   "outputs": [],
   "source": [
    "da = DataAugmenter()\n",
    "dataset = Dataset(config.train_path, config.val_path, cd, da)\n",
    "model = UNetColoringModel(config, dataset)"
   ]
  },
  {
   "cell_type": "code",
   "execution_count": null,
   "metadata": {},
   "outputs": [],
   "source": [
    "model.load(output_folder)"
   ]
  },
  {
   "cell_type": "code",
   "execution_count": null,
   "metadata": {},
   "outputs": [],
   "source": [
    "image_paths = [os.path.join(config.val_path, impath) for impath in os.listdir(config.val_path)]\n",
    "image_paths = sorted(image_paths)"
   ]
  },
  {
   "cell_type": "markdown",
   "metadata": {},
   "source": [
    "### Utility functions"
   ]
  },
  {
   "cell_type": "code",
   "execution_count": null,
   "metadata": {},
   "outputs": [],
   "source": [
    "temperatures = [.1, 1., 3.]\n",
    "cold_temperatures = [.05, .1, .38]\n",
    "    \n",
    "def output_prediction(image_paths, cd):\n",
    "    n_images = len(image_paths)\n",
    "    prediction_list = []\n",
    "    yscale_list = []\n",
    "    uvtruth_list = []\n",
    "    for i, image_path in enumerate(tqdm_notebook(image_paths)):\n",
    "        loss, pred_image_categories, (im_yscale, im_uvscale, msk) = model.pred_color_one_image(image_path)\n",
    "        mask_shape = [0, 0]\n",
    "        if msk[:, 0].mean() == 1.:\n",
    "            mask_shape[0] = msk.shape[1]\n",
    "        else:\n",
    "            mask_shape[0] = np.argmin(msk[:, 0])\n",
    "        if msk[0, :].mean() == 1.:\n",
    "            mask_shape[1] = msk.shape[0]\n",
    "        else:\n",
    "            mask_shape[1] = np.argmin(msk[0, :])\n",
    "        \n",
    "        cropped_pred_image_categories = pred_image_categories[0, :mask_shape[0], :mask_shape[1], :]\n",
    "        cropped_im_yscale = im_yscale[:mask_shape[0], :mask_shape[1]]\n",
    "        cropped_im_uvscale = im_uvscale[:mask_shape[0], :mask_shape[1], :]\n",
    "        \n",
    "        prediction_list.append(cropped_pred_image_categories)\n",
    "        yscale_list.append(cropped_im_yscale)\n",
    "        uvtruth_list.append(cropped_im_uvscale)\n",
    "\n",
    "    return prediction_list, yscale_list, uvtruth_list\n",
    "\n",
    "def display_pred_array(prediction_list, yscale_list, uvtruth_list, cd):\n",
    "    n_images = len(prediction_list)\n",
    "    n_temperatures = len(temperatures)\n",
    "    plt.figure(figsize=(16, n_images * 5))\n",
    "    \n",
    "    for i in range(n_images):\n",
    "        pred_frame = prediction_list[i]\n",
    "        yscale_frame = yscale_list[i]\n",
    "        uvtruth_frame = uvtruth_list[i]\n",
    "        \n",
    "\n",
    "        true_YUV_image = np.concatenate([yscale_frame, uvtruth_frame], axis=2)\n",
    "        true_RGB_image = YUV_to_RGB(true_YUV_image).astype(\"uint8\")\n",
    "        \n",
    "        ax = plt.subplot(n_images, n_temperatures + 1, 1 + i * (n_temperatures + 1))\n",
    "        plt.imshow(true_RGB_image)\n",
    "        plt.axis('off')\n",
    "        ax.set_title(\"ground truth\")\n",
    "        for j, temperature in enumerate(temperatures):\n",
    "            pred_UVimage = cd.UVpixels_from_distribution(pred_frame,\n",
    "                                                         temperature=temperature)\n",
    "            predicted_YUV_image = np.concatenate([yscale_frame, pred_UVimage], axis=2)\n",
    "            predicted_RGB_image = YUV_to_RGB(predicted_YUV_image).astype(\"uint8\")\n",
    "\n",
    "            ax = plt.subplot(n_images, n_temperatures + 1, 1 + i * (n_temperatures + 1) + j + 1)\n",
    "            plt.imshow(predicted_RGB_image)\n",
    "            plt.axis('off')\n",
    "            ax.set_title(\"prediction (temperature = {})\".format(temperature))\n",
    "    \n",
    "    plt.show()\n",
    "\n",
    "def display_pred_array_UV(prediction_list, yscale_list, uvtruth_list, cd):\n",
    "    n_images = len(prediction_list)\n",
    "    n_temperatures = len(temperatures) + 1\n",
    "    plt.figure(figsize=(16, n_images * 5))\n",
    "    \n",
    "    for i in range(n_images):\n",
    "        pred_frame = prediction_list[i]\n",
    "        yscale_frame0 = yscale_list[i]\n",
    "        yscale_frame = np.ones(yscale_frame0.shape) / 2.\n",
    "        uvtruth_frame = uvtruth_list[i]\n",
    "        \n",
    "        true_YUV_image = np.concatenate([yscale_frame0, uvtruth_frame], axis=2)\n",
    "        true_RGB_image = YUV_to_RGB(true_YUV_image).astype(\"uint8\")\n",
    "        \n",
    "        ax = plt.subplot(n_images, n_temperatures + 1, 1 + i * (n_temperatures + 1))\n",
    "        plt.imshow(true_RGB_image)\n",
    "        plt.axis('off')\n",
    "        ax.set_title(\"ground truth\")\n",
    "\n",
    "        \n",
    "        true_YUV_image = np.concatenate([yscale_frame, uvtruth_frame], axis=2)\n",
    "        true_RGB_image = YUV_to_RGB(true_YUV_image).astype(\"uint8\")\n",
    "        \n",
    "        ax = plt.subplot(n_images, n_temperatures + 1, 1 + i * (n_temperatures + 1) + 1)\n",
    "        plt.imshow(true_RGB_image)\n",
    "        plt.axis('off')\n",
    "        ax.set_title(\"ground truth UV\")\n",
    "        for j, temperature in enumerate(cold_temperatures):\n",
    "            pred_UVimage = cd.UVpixels_from_distribution(pred_frame,\n",
    "                                                         temperature=temperature)\n",
    "            predicted_YUV_image = np.concatenate([yscale_frame, pred_UVimage], axis=2)\n",
    "            predicted_RGB_image = YUV_to_RGB(predicted_YUV_image).astype(\"uint8\")\n",
    "\n",
    "            ax = plt.subplot(n_images, n_temperatures + 1, 1 + i * (n_temperatures + 1) + j + 2)\n",
    "            plt.imshow(predicted_RGB_image)\n",
    "            plt.axis('off')\n",
    "            ax.set_title(\"prediction (temperature = {})\".format(temperature))\n",
    "    \n",
    "    plt.show()\n",
    "    "
   ]
  },
  {
   "cell_type": "code",
   "execution_count": null,
   "metadata": {},
   "outputs": [],
   "source": [
    "def double_image_size(in_image):\n",
    "    in_shape = in_image.shape\n",
    "    zoomed_image = np.zeros((in_shape[0] * 2, in_shape[1] * 2, in_shape[2]), dtype=np.uint8)\n",
    "    zoomed_image[::2, ::2, :] = in_image\n",
    "    zoomed_image[1::2, ::2, :] = in_image\n",
    "    zoomed_image[::2, 1::2, :] = in_image\n",
    "    zoomed_image[1::2, 1::2, :] = in_image\n",
    "    return zoomed_image"
   ]
  },
  {
   "cell_type": "code",
   "execution_count": null,
   "metadata": {},
   "outputs": [],
   "source": [
    "def plot_movies_mp4(image_array):\n",
    "    fig, ax = plt.subplots(len(image_array), figsize=(7.5, 12))\n",
    "    im = {}\n",
    "    for i in range(len(image_array)):\n",
    "        im[i] = ax[i].imshow(image_array[i][0])\n",
    "        ax[i].axis('off')\n",
    "\n",
    "    def animate(j):\n",
    "        for i in range(len(image_array)):\n",
    "            im[i].set_array(image_array[i][j])\n",
    "        return (im[k] for k in range(len(image_array)))\n",
    "\n",
    "    anim = animation.FuncAnimation(fig, animate, frames=len(image_array[0]))\n",
    "    display(HTML(anim.to_html5_video()))\n",
    "    \n",
    "def compare_pred_videos(prediction_list, prediction_list_smoothened, yscale_list, uvtruth_list, cd, \n",
    "                      temperature=1.):\n",
    "    n_images = len(prediction_list)\n",
    "    n_methods = 2\n",
    "\n",
    "    true_rgb_images = []\n",
    "    true_grey_images = []\n",
    "    pred_rgb_images = []\n",
    "    pred_smooth_rgb_images = []\n",
    "    for i in range(n_images):\n",
    "        pred_frame = prediction_list[i]\n",
    "        pred_frame_smooth = prediction_list_smoothened[i]\n",
    "        yscale_frame = yscale_list[i]\n",
    "        uvtruth_frame = uvtruth_list[i]\n",
    "\n",
    "        true_YUV_image = np.concatenate([yscale_frame, uvtruth_frame], axis=2)\n",
    "        true_RGB_image = YUV_to_RGB(true_YUV_image).astype(\"uint8\")\n",
    "        true_rgb_images.append(double_image_size(true_RGB_image))\n",
    "        \n",
    "        true_greyscale_image = np.concatenate([yscale_frame]*3, axis=2)\n",
    "        true_greyscale_image = (true_greyscale_image * 255.).astype(\"uint8\")\n",
    "        true_grey_images.append(double_image_size(true_greyscale_image))\n",
    "        \n",
    "        pred_UVimage = cd.UVpixels_from_distribution(pred_frame, temperature=temperature)\n",
    "        predicted_YUV_image = np.concatenate([yscale_frame, pred_UVimage], axis=2)\n",
    "        predicted_RGB_image = YUV_to_RGB(predicted_YUV_image).astype(\"uint8\")\n",
    "        pred_rgb_images.append(double_image_size(predicted_RGB_image))\n",
    "        \n",
    "        pred_UVimage = cd.UVpixels_from_distribution(pred_frame_smooth, temperature=temperature)\n",
    "        predicted_YUV_image = np.concatenate([yscale_frame, pred_UVimage], axis=2)\n",
    "        predicted_RGB_image = YUV_to_RGB(predicted_YUV_image).astype(\"uint8\")\n",
    "        pred_smooth_rgb_images.append(double_image_size(predicted_RGB_image))\n",
    "    \n",
    "    plot_movies_mp4([true_rgb_images, true_grey_images, pred_rgb_images, pred_smooth_rgb_images])\n",
    "    \n",
    "def dump_pred_videos(prediction_list, prediction_list_smoothened, yscale_list, uvtruth_list, cd, \n",
    "                      temperature=1.):\n",
    "    n_images = len(prediction_list)\n",
    "    n_methods = 2\n",
    "\n",
    "    for i in tqdm_notebook(range(n_images)):\n",
    "        pred_frame = prediction_list[i]\n",
    "        pred_frame_smooth = prediction_list_smoothened[i]\n",
    "        yscale_frame = yscale_list[i]\n",
    "        uvtruth_frame = uvtruth_list[i]\n",
    "\n",
    "        true_YUV_image = np.concatenate([yscale_frame, uvtruth_frame], axis=2)\n",
    "        dump_YUV_image_to_jpg(true_YUV_image, \"outputs/video/true_frame{}.png\".format(i))\n",
    "        \n",
    "        true_greyscale_image = np.concatenate([yscale_frame]*3, axis=2)\n",
    "        true_greyscale_image = (true_greyscale_image * 255.).astype(\"uint8\")\n",
    "        imsave(fname=\"outputs/video/greyscale_frame{}.png\".format(i), arr=true_greyscale_image,format = 'png')\n",
    "        \n",
    "        pred_UVimage = cd.UVpixels_from_distribution(pred_frame, temperature=temperature)\n",
    "        predicted_YUV_image = np.concatenate([yscale_frame, pred_UVimage], axis=2)\n",
    "        dump_YUV_image_to_jpg(predicted_YUV_image, \"outputs/video/predicted_frame{}.png\".format(i))\n",
    "        \n",
    "        pred_UVimage = cd.UVpixels_from_distribution(pred_frame_smooth, temperature=temperature)\n",
    "        predicted_YUV_image = np.concatenate([yscale_frame, pred_UVimage], axis=2)\n",
    "        dump_YUV_image_to_jpg(predicted_YUV_image, \"outputs/video/predicted_smooth_frame{}.png\".format(i))\n",
    "    "
   ]
  },
  {
   "cell_type": "code",
   "execution_count": null,
   "metadata": {
    "scrolled": true
   },
   "outputs": [],
   "source": [
    "prediction_list, yscale_list, uvtruth_list = output_prediction(image_paths[::10], cd)"
   ]
  },
  {
   "cell_type": "code",
   "execution_count": null,
   "metadata": {
    "scrolled": true
   },
   "outputs": [],
   "source": [
    "display_pred_array_UV(prediction_list[15::50], yscale_list[15::50], uvtruth_list[15::50], cd)"
   ]
  },
  {
   "cell_type": "markdown",
   "metadata": {},
   "source": [
    "### Smoothing the predictions"
   ]
  },
  {
   "cell_type": "code",
   "execution_count": null,
   "metadata": {},
   "outputs": [],
   "source": [
    "w = np.exp(.2 * np.arange(10))\n",
    "w = w / sum(w)\n",
    "filter_size = len(w)\n",
    "plt.plot(range(-filter_size, 0), w)"
   ]
  },
  {
   "cell_type": "code",
   "execution_count": null,
   "metadata": {},
   "outputs": [],
   "source": [
    "prediction_list_smoothened = smoothen_frame_list(prediction_list, conv_weights=w)"
   ]
  },
  {
   "cell_type": "code",
   "execution_count": null,
   "metadata": {},
   "outputs": [],
   "source": [
    "#dump_pred_videos(prediction_list[filter_size-1:], prediction_list_smoothened, \n",
    "#                   yscale_list[filter_size-1:], uvtruth_list[filter_size-1:], cd)"
   ]
  },
  {
   "cell_type": "code",
   "execution_count": null,
   "metadata": {
    "scrolled": false
   },
   "outputs": [],
   "source": [
    "compare_pred_videos(prediction_list[filter_size-1::5], prediction_list_smoothened[::5], \n",
    "                   yscale_list[filter_size-1::5], uvtruth_list[filter_size-1::5], cd)"
   ]
  },
  {
   "cell_type": "code",
   "execution_count": null,
   "metadata": {},
   "outputs": [],
   "source": []
  },
  {
   "cell_type": "code",
   "execution_count": null,
   "metadata": {},
   "outputs": [],
   "source": []
  },
  {
   "cell_type": "code",
   "execution_count": null,
   "metadata": {},
   "outputs": [],
   "source": []
  },
  {
   "cell_type": "markdown",
   "metadata": {},
   "source": [
    "## Histograms of predicted colors"
   ]
  },
  {
   "cell_type": "code",
   "execution_count": null,
   "metadata": {},
   "outputs": [],
   "source": [
    "from collections import Counter"
   ]
  },
  {
   "cell_type": "code",
   "execution_count": null,
   "metadata": {
    "scrolled": true
   },
   "outputs": [],
   "source": [
    "cpred = Counter()\n",
    "for predicted_frame in prediction_list:    \n",
    "    cpred.update(np.argmax(predicted_frame, axis=2).ravel())"
   ]
  },
  {
   "cell_type": "code",
   "execution_count": null,
   "metadata": {
    "scrolled": true
   },
   "outputs": [],
   "source": [
    "ctruth = Counter()\n",
    "for uvtruth_frame in uvtruth_list:\n",
    "    ctruth.update(cd.categorize(uvtruth_frame).ravel())"
   ]
  },
  {
   "cell_type": "code",
   "execution_count": null,
   "metadata": {},
   "outputs": [],
   "source": [
    "def plot_counter(c, title=\"\"):\n",
    "    values = [c.get(k, 0) for k in range(33)]\n",
    "    values = [v / sum(values) for v in values]\n",
    "    indexes = np.arange(33)\n",
    "    width = .35\n",
    "\n",
    "    plt.bar(indexes, values, width, color='g')\n",
    "    plt.xticks(indexes, indexes)\n",
    "    plt.ylabel(\"frequency\", fontsize=12)\n",
    "    plt.title(title, fontsize=17)\n",
    "\n",
    "    \n",
    "def plot_counters(c1, c2, title=\"\"):\n",
    "    values1 = [c1.get(k, 0) for k in range(33)]\n",
    "    values1 = [v / sum(values1) for v in values1]\n",
    "    values2 = [c2.get(k, 0) for k in range(33)]\n",
    "    values2 = [v / sum(values2) for v in values2]\n",
    "    indexes = np.arange(33)\n",
    "    width = .35\n",
    "\n",
    "    rects1 = plt.bar(indexes, values1, width)\n",
    "    rects2 = plt.bar(indexes + width, values2, width)\n",
    "    \n",
    "    plt.legend((rects1[0], rects2[0]), ('Truth', 'Prediction'), fontsize=17)\n",
    "    plt.xticks(indexes + width / 2, indexes)\n",
    "    plt.ylabel(\"frequency\", fontsize=12)\n",
    "    plt.title(title, fontsize=17)\n"
   ]
  },
  {
   "cell_type": "code",
   "execution_count": null,
   "metadata": {},
   "outputs": [],
   "source": [
    "plt.figure(figsize=(12, 9))\n",
    "plt.subplot(211)\n",
    "plot_counters(ctruth, cpred, title=\"Color bin frequencies from sample images\")\n",
    "plt.subplot(212)\n",
    "plot_counter(cd.category_frequency, title=\"Color bin frequencies of the Color Discretizer\")"
   ]
  },
  {
   "cell_type": "markdown",
   "metadata": {},
   "source": [
    "Merge both histograms for poster."
   ]
  },
  {
   "cell_type": "code",
   "execution_count": null,
   "metadata": {},
   "outputs": [],
   "source": [
    "def plot_counters(c1, c2, cback, title=\"\"):\n",
    "    values1 = [c1.get(k, 0) for k in range(33)]\n",
    "    values1 = [v / sum(values1) for v in values1]\n",
    "    values2 = [c2.get(k, 0) for k in range(33)]\n",
    "    values2 = [v / sum(values2) for v in values2]\n",
    "    indexes = np.arange(33)\n",
    "\n",
    "\n",
    "    \n",
    "    values = [cback.get(k, 0) for k in range(33)]\n",
    "    values = [v / sum(values) for v in values]\n",
    "    width = .9\n",
    "    back = plt.bar(indexes, values, width, color='g', alpha = .3)\n",
    "\n",
    "    width = .35\n",
    "    rects1 = plt.bar(indexes, values1, width)\n",
    "    rects2 = plt.bar(indexes + width, values2, width)\n",
    "\n",
    "\n",
    "    plt.legend((rects1[0], rects2[0], back[0]), ('Truth', 'Prediction', 'Dataset'), fontsize=17)\n",
    "    plt.xticks(indexes + width / 2, indexes)\n",
    "    plt.ylabel(\"frequency\", fontsize=12)\n",
    "    \n",
    "    \n",
    "    plt.title(title, fontsize=17)\n"
   ]
  },
  {
   "cell_type": "code",
   "execution_count": null,
   "metadata": {},
   "outputs": [],
   "source": [
    "plt.figure(figsize=(12, 5))\n",
    "plot_counters(ctruth, cpred, cd.category_frequency, title=\"Color bin frequencies from sample images\")"
   ]
  }
 ],
 "metadata": {
  "kernelspec": {
   "display_name": "Python 3",
   "language": "python",
   "name": "python3"
  },
  "language_info": {
   "codemirror_mode": {
    "name": "ipython",
    "version": 3
   },
   "file_extension": ".py",
   "mimetype": "text/x-python",
   "name": "python",
   "nbconvert_exporter": "python",
   "pygments_lexer": "ipython3",
   "version": "3.6.4"
  }
 },
 "nbformat": 4,
 "nbformat_minor": 1
}
