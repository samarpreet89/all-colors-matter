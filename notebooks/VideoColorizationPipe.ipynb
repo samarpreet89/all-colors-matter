{
 "cells": [
  {
   "cell_type": "markdown",
   "metadata": {},
   "source": [
    "# Colorization\n",
    "Class project - CS231N - Stanford University\n",
    "\n",
    "Vincent Billaut  \n",
    "Matthieu de Rochemonteix  \n",
    "Marc Thibault  \n",
    "\n",
    "See our GitHub [repo](https://github.com/vincentbillaut/all-colors-matter) for more details on the implementation."
   ]
  },
  {
   "cell_type": "markdown",
   "metadata": {},
   "source": [
    "## Imports"
   ]
  },
  {
   "cell_type": "code",
   "execution_count": null,
   "metadata": {
    "scrolled": true
   },
   "outputs": [],
   "source": [
    "import tensorflow as tf\n",
    "import matplotlib.pyplot as plt\n",
    "from matplotlib.pyplot import imread, imsave\n",
    "import numpy as np\n",
    "\n",
    "%matplotlib inline\n",
    "\n",
    "from matplotlib.pyplot import imread\n",
    "from matplotlib import animation\n",
    "from IPython.display import display, HTML\n",
    "from tqdm import tqdm_notebook\n",
    "\n",
    "####################################################\n",
    "# Setting working directory to enable relative paths\n",
    "import os\n",
    "os.chdir(\"../\")\n",
    "import pickle\n",
    "####################################################\n",
    "\n",
    "from models.coloringmodel import Config\n",
    "from models.naive_convnet import NaiveConvColoringModel\n",
    "from models.unet import UNetColoringModel\n",
    "from utils.dataset import Dataset\n",
    "from utils.color_utils import RGB_to_YUV, YUV_to_RGB\n",
    "from utils.data_utils import load_image_jpg_to_YUV, dump_YUV_image_to_jpg\n",
    "from utils.color_discretizer import ColorDiscretizer\n",
    "from utils.data_augmentation import DataAugmenter\n",
    "from utils.video_utils import smoothen_frame_list"
   ]
  },
  {
   "cell_type": "markdown",
   "metadata": {},
   "source": [
    "## Load existing model"
   ]
  },
  {
   "cell_type": "code",
   "execution_count": null,
   "metadata": {},
   "outputs": [],
   "source": [
    "# Enter output folder name\n",
    "output_folder = \"outputs/20180604_223338-2cd6/\""
   ]
  },
  {
   "cell_type": "code",
   "execution_count": null,
   "metadata": {},
   "outputs": [],
   "source": [
    "config = Config(\"configs/config_unet_suncoast2.json\")\n",
    "\n",
    "cd = ColorDiscretizer(max_categories=config.max_categories)\n",
    "cd_loaded = pickle.load(open(\"notebooks/cd.pkl\", \"rb\"))\n",
    "for k in cd_loaded.__dict__:\n",
    "    cd.__dict__[k] = cd_loaded.__dict__[k]"
   ]
  },
  {
   "cell_type": "code",
   "execution_count": null,
   "metadata": {},
   "outputs": [],
   "source": [
    "config.val_path = \"data/long_video_frames_/\""
   ]
  },
  {
   "cell_type": "code",
   "execution_count": null,
   "metadata": {},
   "outputs": [],
   "source": [
    "da = DataAugmenter()\n",
    "dataset = Dataset(config.train_path, config.val_path, cd, da)\n",
    "model = UNetColoringModel(config, dataset)"
   ]
  },
  {
   "cell_type": "code",
   "execution_count": null,
   "metadata": {},
   "outputs": [],
   "source": [
    "model.load(output_folder)"
   ]
  },
  {
   "cell_type": "code",
   "execution_count": null,
   "metadata": {},
   "outputs": [],
   "source": [
    "image_paths = [os.path.join(config.val_path, impath) for impath in os.listdir(config.val_path)]\n",
    "image_paths = sorted(image_paths)"
   ]
  },
  {
   "cell_type": "code",
   "execution_count": null,
   "metadata": {},
   "outputs": [],
   "source": [
    "# specific sort to extract the frame number.\n",
    "image_paths = sorted(image_paths, key=lambda t: int(t[29:-4]))"
   ]
  },
  {
   "cell_type": "code",
   "execution_count": null,
   "metadata": {},
   "outputs": [],
   "source": [
    "image_paths"
   ]
  },
  {
   "cell_type": "markdown",
   "metadata": {},
   "source": [
    "### Utility functions"
   ]
  },
  {
   "cell_type": "code",
   "execution_count": null,
   "metadata": {},
   "outputs": [],
   "source": [
    "def colorize_smooth_video_tojpg(image_paths, cd, weight_alpha=.2, temperature=1.):\n",
    "    n_images = len(image_paths)\n",
    "    memory_prediction = None\n",
    "    \n",
    "    for i in tqdm_notebook(range(n_images)):        \n",
    "        image_path = image_paths[i]\n",
    "        loss, pred_image_categories, (im_yscale, im_uvscale, msk) = model.pred_color_one_image(image_path)\n",
    "        mask_shape = [0, 0]\n",
    "        if msk[:, 0].mean() == 1.:\n",
    "            mask_shape[0] = msk.shape[1]\n",
    "        else:\n",
    "            mask_shape[0] = np.argmin(msk[:, 0])\n",
    "        if msk[0, :].mean() == 1.:\n",
    "            mask_shape[1] = msk.shape[0]\n",
    "        else:\n",
    "            mask_shape[1] = np.argmin(msk[0, :])\n",
    "        \n",
    "        pred_frame = pred_image_categories[0, :mask_shape[0], :mask_shape[1], :]\n",
    "        yscale_frame = im_yscale[:mask_shape[0], :mask_shape[1]]\n",
    "        uvtruth_frame = im_uvscale[:mask_shape[0], :mask_shape[1], :]\n",
    "        \n",
    "\n",
    "        true_YUV_image = np.concatenate([yscale_frame, uvtruth_frame], axis=2)\n",
    "        dump_YUV_image_to_jpg(true_YUV_image, \"outputs/video/true_frame{}.png\".format(i))\n",
    "        \n",
    "        true_greyscale_image = np.concatenate([yscale_frame]*3, axis=2)\n",
    "        true_greyscale_image = (true_greyscale_image * 255.).astype(\"uint8\")\n",
    "        imsave(fname=\"outputs/video/greyscale_frame{}.png\".format(i), arr=true_greyscale_image,format = 'png')\n",
    "        \n",
    "        pred_UVimage = cd.UVpixels_from_distribution(pred_frame, temperature=temperature)\n",
    "        predicted_YUV_image = np.concatenate([yscale_frame, pred_UVimage], axis=2)\n",
    "        dump_YUV_image_to_jpg(predicted_YUV_image, \"outputs/video/predicted_frame{}.png\".format(i))\n",
    "        \n",
    "        if memory_prediction is None:\n",
    "            memory_prediction = pred_frame\n",
    "        else:\n",
    "            memory_prediction *= np.exp(-weight_alpha)\n",
    "        \n",
    "        smooth_pred_frame = (memory_prediction + pred_frame) / (1 + np.exp(-weight_alpha))\n",
    "        pred_UVimage = cd.UVpixels_from_distribution(smooth_pred_frame, temperature=temperature)\n",
    "        predicted_YUV_image = np.concatenate([yscale_frame, pred_UVimage], axis=2)\n",
    "        dump_YUV_image_to_jpg(predicted_YUV_image, \"outputs/video/predicted_smooth_frame{}.png\".format(i))\n",
    "        \n",
    "        memory_prediction = smooth_pred_frame\n",
    "        "
   ]
  },
  {
   "cell_type": "code",
   "execution_count": null,
   "metadata": {},
   "outputs": [],
   "source": [
    "colorize_smooth_video_tojpg(image_paths, cd)"
   ]
  },
  {
   "cell_type": "markdown",
   "metadata": {},
   "source": [
    "### Smoothing the predictions"
   ]
  },
  {
   "cell_type": "code",
   "execution_count": null,
   "metadata": {},
   "outputs": [],
   "source": [
    "w = np.exp(.2 * np.arange(10))\n",
    "w = w / sum(w)\n",
    "filter_size = len(w)\n",
    "plt.plot(range(-filter_size, 0), w)"
   ]
  },
  {
   "cell_type": "code",
   "execution_count": null,
   "metadata": {},
   "outputs": [],
   "source": [
    "prediction_list_smoothened = smoothen_frame_list(prediction_list, conv_weights=w)"
   ]
  },
  {
   "cell_type": "code",
   "execution_count": null,
   "metadata": {},
   "outputs": [],
   "source": [
    "#dump_pred_videos(prediction_list[filter_size-1:], prediction_list_smoothened, \n",
    "#                   yscale_list[filter_size-1:], uvtruth_list[filter_size-1:], cd)"
   ]
  }
 ],
 "metadata": {
  "kernelspec": {
   "display_name": "Python 3",
   "language": "python",
   "name": "python3"
  },
  "language_info": {
   "codemirror_mode": {
    "name": "ipython",
    "version": 3
   },
   "file_extension": ".py",
   "mimetype": "text/x-python",
   "name": "python",
   "nbconvert_exporter": "python",
   "pygments_lexer": "ipython3",
   "version": "3.6.4"
  }
 },
 "nbformat": 4,
 "nbformat_minor": 1
}
